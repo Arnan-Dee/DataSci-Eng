{
 "cells": [
  {
   "cell_type": "code",
   "execution_count": 1,
   "metadata": {},
   "outputs": [],
   "source": [
    "import pandas as pd\n",
    "import requests"
   ]
  },
  {
   "cell_type": "code",
   "execution_count": 2,
   "metadata": {},
   "outputs": [
    {
     "data": {
      "text/html": [
       "<div>\n",
       "<style scoped>\n",
       "    .dataframe tbody tr th:only-of-type {\n",
       "        vertical-align: middle;\n",
       "    }\n",
       "\n",
       "    .dataframe tbody tr th {\n",
       "        vertical-align: top;\n",
       "    }\n",
       "\n",
       "    .dataframe thead th {\n",
       "        text-align: right;\n",
       "    }\n",
       "</style>\n",
       "<table border=\"1\" class=\"dataframe\">\n",
       "  <thead>\n",
       "    <tr style=\"text-align: right;\">\n",
       "      <th></th>\n",
       "      <th>ticket_id</th>\n",
       "      <th>type</th>\n",
       "      <th>organization</th>\n",
       "      <th>comment</th>\n",
       "      <th>photo</th>\n",
       "      <th>photo_after</th>\n",
       "      <th>coords</th>\n",
       "      <th>address</th>\n",
       "      <th>subdistrict</th>\n",
       "      <th>district</th>\n",
       "      <th>province</th>\n",
       "      <th>timestamp</th>\n",
       "      <th>state</th>\n",
       "      <th>star</th>\n",
       "      <th>count_reopen</th>\n",
       "      <th>last_activity</th>\n",
       "    </tr>\n",
       "  </thead>\n",
       "  <tbody>\n",
       "    <tr>\n",
       "      <th>0</th>\n",
       "      <td>2021-9LHDM6</td>\n",
       "      <td>{}</td>\n",
       "      <td>NaN</td>\n",
       "      <td>ไม่มีภาพ</td>\n",
       "      <td>https://storage.googleapis.com/traffy_public_b...</td>\n",
       "      <td>NaN</td>\n",
       "      <td>100.48661,13.79386</td>\n",
       "      <td>1867 จรัญสนิทวงศ์ แขวง บางพลัด เขตบางพลัด กรุง...</td>\n",
       "      <td>บางพลัด</td>\n",
       "      <td>บางพลัด</td>\n",
       "      <td>กรุงเทพมหานคร</td>\n",
       "      <td>2021-09-01 10:44:55.353209+00</td>\n",
       "      <td>กำลังดำเนินการ</td>\n",
       "      <td>NaN</td>\n",
       "      <td>NaN</td>\n",
       "      <td>2022-02-22 04:59:58.622268+00</td>\n",
       "    </tr>\n",
       "    <tr>\n",
       "      <th>1</th>\n",
       "      <td>2021-FYJTFP</td>\n",
       "      <td>{ความสะอาด}</td>\n",
       "      <td>เขตบางซื่อ</td>\n",
       "      <td>ขยะเยอะ</td>\n",
       "      <td>https://storage.googleapis.com/traffy_public_b...</td>\n",
       "      <td>NaN</td>\n",
       "      <td>100.53084,13.81865</td>\n",
       "      <td>12/14 ถนน กรุงเทพ- นนทบุรี แขวง บางซื่อ เขตบาง...</td>\n",
       "      <td>NaN</td>\n",
       "      <td>NaN</td>\n",
       "      <td>กรุงเทพมหานคร</td>\n",
       "      <td>2021-09-03 12:51:09.453003+00</td>\n",
       "      <td>เสร็จสิ้น</td>\n",
       "      <td>NaN</td>\n",
       "      <td>NaN</td>\n",
       "      <td>2022-06-04 15:34:14.609206+00</td>\n",
       "    </tr>\n",
       "    <tr>\n",
       "      <th>2</th>\n",
       "      <td>2021-8GKAR9</td>\n",
       "      <td>{สายไฟ}</td>\n",
       "      <td>ยังไม่มีหน่วยงานรับผิดชอบ</td>\n",
       "      <td>1. เถาวัลย์งอดบนสายไฟ ผมกลัวว่าต่อไปจะเอาออกยา...</td>\n",
       "      <td>https://storage.googleapis.com/traffy_public_b...</td>\n",
       "      <td>NaN</td>\n",
       "      <td>100.57685,13.79704</td>\n",
       "      <td>335/31 ลาดพร้าว แขวง สามเสนนอก เขตห้วยขวาง กรุ...</td>\n",
       "      <td>สามเสนนอก</td>\n",
       "      <td>ห้วยขวาง</td>\n",
       "      <td>จังหวัดกรุงเทพมหานคร</td>\n",
       "      <td>2021-09-19 06:47:50.488685+00</td>\n",
       "      <td>กำลังดำเนินการ</td>\n",
       "      <td>NaN</td>\n",
       "      <td>NaN</td>\n",
       "      <td>2022-02-22 04:30:07.293416+00</td>\n",
       "    </tr>\n",
       "    <tr>\n",
       "      <th>3</th>\n",
       "      <td>2021-AFPUXZ</td>\n",
       "      <td>{ถนน,สะพาน}</td>\n",
       "      <td>NaN</td>\n",
       "      <td>1 ซ่อมทางเท้าหลังคืนพื้นที่จากการปรับปรุงสะพาน...</td>\n",
       "      <td>https://storage.googleapis.com/traffy_public_b...</td>\n",
       "      <td>NaN</td>\n",
       "      <td>100.52916,13.72338</td>\n",
       "      <td>37 10 ซอย สีลม 9 แขวง สีลม เขตบางรัก กรุงเทพมห...</td>\n",
       "      <td>สีลม</td>\n",
       "      <td>บางรัก</td>\n",
       "      <td>กรุงเทพมหานคร</td>\n",
       "      <td>2021-09-19 07:40:30.000781+00</td>\n",
       "      <td>กำลังดำเนินการ</td>\n",
       "      <td>NaN</td>\n",
       "      <td>NaN</td>\n",
       "      <td>2022-02-22 04:30:04.507406+00</td>\n",
       "    </tr>\n",
       "    <tr>\n",
       "      <th>4</th>\n",
       "      <td>2021-CGPMUN</td>\n",
       "      <td>{น้ำท่วม,ร้องเรียน}</td>\n",
       "      <td>เขตประเวศ,ฝ่ายโยธา เขตประเวศ</td>\n",
       "      <td>น้ำท่วมเวลาฝนตกและทะลุเข้าบ้านเดือดร้อนมากทุกๆ...</td>\n",
       "      <td>https://storage.googleapis.com/traffy_public_b...</td>\n",
       "      <td>https://storage.googleapis.com/traffy_public_b...</td>\n",
       "      <td>100.66709,13.67891</td>\n",
       "      <td>189 เฉลิมพระเกียรติ ร.9 แขวง หนองบอน เขต ประเว...</td>\n",
       "      <td>หนองบอน</td>\n",
       "      <td>ประเวศ</td>\n",
       "      <td>กรุงเทพมหานคร</td>\n",
       "      <td>2021-09-19 14:56:08.924992+00</td>\n",
       "      <td>เสร็จสิ้น</td>\n",
       "      <td>4.0</td>\n",
       "      <td>NaN</td>\n",
       "      <td>2022-06-21 08:21:09.532782+00</td>\n",
       "    </tr>\n",
       "  </tbody>\n",
       "</table>\n",
       "</div>"
      ],
      "text/plain": [
       "     ticket_id                 type                  organization  \\\n",
       "0  2021-9LHDM6                   {}                           NaN   \n",
       "1  2021-FYJTFP          {ความสะอาด}                    เขตบางซื่อ   \n",
       "2  2021-8GKAR9              {สายไฟ}     ยังไม่มีหน่วยงานรับผิดชอบ   \n",
       "3  2021-AFPUXZ          {ถนน,สะพาน}                           NaN   \n",
       "4  2021-CGPMUN  {น้ำท่วม,ร้องเรียน}  เขตประเวศ,ฝ่ายโยธา เขตประเวศ   \n",
       "\n",
       "                                             comment  \\\n",
       "0                                           ไม่มีภาพ   \n",
       "1                                            ขยะเยอะ   \n",
       "2  1. เถาวัลย์งอดบนสายไฟ ผมกลัวว่าต่อไปจะเอาออกยา...   \n",
       "3  1 ซ่อมทางเท้าหลังคืนพื้นที่จากการปรับปรุงสะพาน...   \n",
       "4  น้ำท่วมเวลาฝนตกและทะลุเข้าบ้านเดือดร้อนมากทุกๆ...   \n",
       "\n",
       "                                               photo  \\\n",
       "0  https://storage.googleapis.com/traffy_public_b...   \n",
       "1  https://storage.googleapis.com/traffy_public_b...   \n",
       "2  https://storage.googleapis.com/traffy_public_b...   \n",
       "3  https://storage.googleapis.com/traffy_public_b...   \n",
       "4  https://storage.googleapis.com/traffy_public_b...   \n",
       "\n",
       "                                         photo_after              coords  \\\n",
       "0                                                NaN  100.48661,13.79386   \n",
       "1                                                NaN  100.53084,13.81865   \n",
       "2                                                NaN  100.57685,13.79704   \n",
       "3                                                NaN  100.52916,13.72338   \n",
       "4  https://storage.googleapis.com/traffy_public_b...  100.66709,13.67891   \n",
       "\n",
       "                                             address subdistrict  district  \\\n",
       "0  1867 จรัญสนิทวงศ์ แขวง บางพลัด เขตบางพลัด กรุง...     บางพลัด   บางพลัด   \n",
       "1  12/14 ถนน กรุงเทพ- นนทบุรี แขวง บางซื่อ เขตบาง...         NaN       NaN   \n",
       "2  335/31 ลาดพร้าว แขวง สามเสนนอก เขตห้วยขวาง กรุ...   สามเสนนอก  ห้วยขวาง   \n",
       "3  37 10 ซอย สีลม 9 แขวง สีลม เขตบางรัก กรุงเทพมห...        สีลม    บางรัก   \n",
       "4  189 เฉลิมพระเกียรติ ร.9 แขวง หนองบอน เขต ประเว...     หนองบอน    ประเวศ   \n",
       "\n",
       "               province                      timestamp           state  star  \\\n",
       "0         กรุงเทพมหานคร  2021-09-01 10:44:55.353209+00  กำลังดำเนินการ   NaN   \n",
       "1         กรุงเทพมหานคร  2021-09-03 12:51:09.453003+00       เสร็จสิ้น   NaN   \n",
       "2  จังหวัดกรุงเทพมหานคร  2021-09-19 06:47:50.488685+00  กำลังดำเนินการ   NaN   \n",
       "3         กรุงเทพมหานคร  2021-09-19 07:40:30.000781+00  กำลังดำเนินการ   NaN   \n",
       "4         กรุงเทพมหานคร  2021-09-19 14:56:08.924992+00       เสร็จสิ้น   4.0   \n",
       "\n",
       "   count_reopen                  last_activity  \n",
       "0           NaN  2022-02-22 04:59:58.622268+00  \n",
       "1           NaN  2022-06-04 15:34:14.609206+00  \n",
       "2           NaN  2022-02-22 04:30:07.293416+00  \n",
       "3           NaN  2022-02-22 04:30:04.507406+00  \n",
       "4           NaN  2022-06-21 08:21:09.532782+00  "
      ]
     },
     "execution_count": 2,
     "metadata": {},
     "output_type": "execute_result"
    }
   ],
   "source": [
    "data_url = 'https://publicapi.traffy.in.th/dump-csv-chadchart/bangkok_traffy.csv'\n",
    "df = pd.read_csv(data_url)\n",
    "df.head()"
   ]
  },
  {
   "cell_type": "code",
   "execution_count": 3,
   "metadata": {},
   "outputs": [
    {
     "data": {
      "text/plain": [
       "ticket_id         object\n",
       "type              object\n",
       "organization      object\n",
       "comment           object\n",
       "photo             object\n",
       "photo_after       object\n",
       "coords            object\n",
       "address           object\n",
       "subdistrict       object\n",
       "district          object\n",
       "province          object\n",
       "timestamp         object\n",
       "state             object\n",
       "star             float64\n",
       "count_reopen     float64\n",
       "last_activity     object\n",
       "dtype: object"
      ]
     },
     "execution_count": 3,
     "metadata": {},
     "output_type": "execute_result"
    }
   ],
   "source": [
    "df.dtypes"
   ]
  },
  {
   "cell_type": "code",
   "execution_count": 4,
   "metadata": {},
   "outputs": [
    {
     "data": {
      "text/plain": [
       "Index(['ticket_id', 'type', 'organization', 'comment', 'photo', 'photo_after',\n",
       "       'coords', 'address', 'subdistrict', 'district', 'province', 'timestamp',\n",
       "       'state', 'star', 'count_reopen', 'last_activity'],\n",
       "      dtype='object')"
      ]
     },
     "execution_count": 4,
     "metadata": {},
     "output_type": "execute_result"
    }
   ],
   "source": [
    "df.columns"
   ]
  },
  {
   "cell_type": "code",
   "execution_count": 5,
   "metadata": {},
   "outputs": [
    {
     "data": {
      "text/plain": [
       "5139"
      ]
     },
     "execution_count": 5,
     "metadata": {},
     "output_type": "execute_result"
    }
   ],
   "source": [
    "df_filter = df[['coords', 'photo', 'timestamp', 'type']]\n",
    "df_filter = df_filter[df_filter.type == '{จราจร}']\n",
    "df_filter = df_filter.dropna()\n",
    "len(df_filter)"
   ]
  },
  {
   "cell_type": "code",
   "execution_count": 6,
   "metadata": {},
   "outputs": [
    {
     "name": "stdout",
     "output_type": "stream",
     "text": [
      "nan\n",
      "759\n",
      "nan\n",
      "863\n",
      "nan\n",
      "3704\n",
      "nan\n",
      "4032\n",
      "nan\n",
      "4751\n",
      "nan\n",
      "5086\n",
      "https://storage.googleapis.com/traffy_public_bucket/attachment/2022-06/e68c54431ab9a2fb5faf4991434d0c69fc93b224.jpg\n",
      "5896\n"
     ]
    }
   ],
   "source": [
    "photo_path = '../resources/photos/'\n",
    "photos_filename = []\n",
    "for index, row in df_filter.iterrows():\n",
    "    img_url = row['photo']\n",
    "    img_filename = f'{photo_path}/image_{index}.jpg'\n",
    "    try: \n",
    "        response = requests.get(img_url)\n",
    "    except:\n",
    "        print(img_url)\n",
    "        print(index)\n",
    "        continue\n",
    "    if response.status_code != 200:\n",
    "        continue\n",
    "    with open(img_filename, 'wb') as destination_image:\n",
    "        destination_image.write(response.content)\n",
    "    photos_filename.append(f'image_{index}.jpg')\n",
    "\n",
    "\n",
    "    "
   ]
  },
  {
   "cell_type": "code",
   "execution_count": null,
   "metadata": {},
   "outputs": [
    {
     "data": {
      "text/html": [
       "<div>\n",
       "<style scoped>\n",
       "    .dataframe tbody tr th:only-of-type {\n",
       "        vertical-align: middle;\n",
       "    }\n",
       "\n",
       "    .dataframe tbody tr th {\n",
       "        vertical-align: top;\n",
       "    }\n",
       "\n",
       "    .dataframe thead th {\n",
       "        text-align: right;\n",
       "    }\n",
       "</style>\n",
       "<table border=\"1\" class=\"dataframe\">\n",
       "  <thead>\n",
       "    <tr style=\"text-align: right;\">\n",
       "      <th></th>\n",
       "      <th>coords</th>\n",
       "      <th>photo</th>\n",
       "      <th>timestamp</th>\n",
       "      <th>type</th>\n",
       "    </tr>\n",
       "  </thead>\n",
       "  <tbody>\n",
       "    <tr>\n",
       "      <th>3</th>\n",
       "      <td>100.52916,13.72338</td>\n",
       "      <td>https://storage.googleapis.com/traffy_public_b...</td>\n",
       "      <td>2021-09-19 07:40:30.000781+00</td>\n",
       "      <td>{ถนน,สะพาน}</td>\n",
       "    </tr>\n",
       "    <tr>\n",
       "      <th>5</th>\n",
       "      <td>100.86190,13.72804</td>\n",
       "      <td>https://storage.googleapis.com/traffy_public_b...</td>\n",
       "      <td>2021-09-20 00:24:47.881831+00</td>\n",
       "      <td>{ถนน,ร้องเรียน,น้ำท่วม,ความปลอดภัย}</td>\n",
       "    </tr>\n",
       "    <tr>\n",
       "      <th>7</th>\n",
       "      <td>100.71592,13.73614</td>\n",
       "      <td>https://storage.googleapis.com/traffy_public_b...</td>\n",
       "      <td>2021-09-22 05:06:09.308534+00</td>\n",
       "      <td>{ถนน,น้ำท่วม}</td>\n",
       "    </tr>\n",
       "    <tr>\n",
       "      <th>8</th>\n",
       "      <td>100.71661,13.79225</td>\n",
       "      <td>https://storage.googleapis.com/traffy_public_b...</td>\n",
       "      <td>2021-09-23 06:25:55.715532+00</td>\n",
       "      <td>{ร้องเรียน,ถนน,น้ำท่วม}</td>\n",
       "    </tr>\n",
       "    <tr>\n",
       "      <th>11</th>\n",
       "      <td>100.73357,13.91732</td>\n",
       "      <td>https://storage.googleapis.com/traffy_public_b...</td>\n",
       "      <td>2021-09-28 23:01:00.111869+00</td>\n",
       "      <td>{ถนน}</td>\n",
       "    </tr>\n",
       "  </tbody>\n",
       "</table>\n",
       "</div>"
      ],
      "text/plain": [
       "                coords                                              photo  \\\n",
       "3   100.52916,13.72338  https://storage.googleapis.com/traffy_public_b...   \n",
       "5   100.86190,13.72804  https://storage.googleapis.com/traffy_public_b...   \n",
       "7   100.71592,13.73614  https://storage.googleapis.com/traffy_public_b...   \n",
       "8   100.71661,13.79225  https://storage.googleapis.com/traffy_public_b...   \n",
       "11  100.73357,13.91732  https://storage.googleapis.com/traffy_public_b...   \n",
       "\n",
       "                        timestamp                                 type  \n",
       "3   2021-09-19 07:40:30.000781+00                          {ถนน,สะพาน}  \n",
       "5   2021-09-20 00:24:47.881831+00  {ถนน,ร้องเรียน,น้ำท่วม,ความปลอดภัย}  \n",
       "7   2021-09-22 05:06:09.308534+00                        {ถนน,น้ำท่วม}  \n",
       "8   2021-09-23 06:25:55.715532+00              {ร้องเรียน,ถนน,น้ำท่วม}  \n",
       "11  2021-09-28 23:01:00.111869+00                                {ถนน}  "
      ]
     },
     "execution_count": 17,
     "metadata": {},
     "output_type": "execute_result"
    }
   ],
   "source": [
    "df_filename = pd.DataFrame({'image_name': photos_filename})\n",
    "df_filter.join(df_filename)\n",
    "df_filter.head()"
   ]
  },
  {
   "cell_type": "code",
   "execution_count": null,
   "metadata": {},
   "outputs": [],
   "source": [
    "df_filter = df_filter.drop(['photo','type'])\n",
    "df_filter.head()"
   ]
  },
  {
   "cell_type": "code",
   "execution_count": null,
   "metadata": {},
   "outputs": [],
   "source": [
    "df_filter.to_csv('../resources/processed.csv', header=True)"
   ]
  },
  {
   "cell_type": "code",
   "execution_count": null,
   "metadata": {},
   "outputs": [],
   "source": []
  }
 ],
 "metadata": {
  "kernelspec": {
   "display_name": "spark",
   "language": "python",
   "name": "python3"
  },
  "language_info": {
   "codemirror_mode": {
    "name": "ipython",
    "version": 3
   },
   "file_extension": ".py",
   "mimetype": "text/x-python",
   "name": "python",
   "nbconvert_exporter": "python",
   "pygments_lexer": "ipython3",
   "version": "3.11.0"
  },
  "orig_nbformat": 4
 },
 "nbformat": 4,
 "nbformat_minor": 2
}
